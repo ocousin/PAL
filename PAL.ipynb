{
 "metadata": {
  "name": "PAL"
 },
 "nbformat": 3,
 "nbformat_minor": 0,
 "worksheets": [
  {
   "cells": [
    {
     "cell_type": "code",
     "collapsed": false,
     "input": "import xml.etree.ElementTree as ET\ntree = ET.parse('AlteraCVSoCDevKit.xml')\nroot = tree.getroot()\n",
     "language": "python",
     "metadata": {},
     "outputs": [],
     "prompt_number": 78
    },
    {
     "cell_type": "code",
     "collapsed": false,
     "input": "print root.tag",
     "language": "python",
     "metadata": {},
     "outputs": [
      {
       "output_type": "stream",
       "stream": "stdout",
       "text": "Platform\n"
      }
     ],
     "prompt_number": 70
    },
    {
     "cell_type": "code",
     "collapsed": false,
     "input": "for node in root:\n    print node",
     "language": "python",
     "metadata": {},
     "outputs": [
      {
       "output_type": "stream",
       "stream": "stdout",
       "text": "<Element 'boardEnviroment' at 0x3a608d0>\n<Element 'boardInfo' at 0x3a60990>\n<Element 'boardPinOut' at 0x3a60a90>\n"
      }
     ],
     "prompt_number": 41
    },
    {
     "cell_type": "code",
     "collapsed": false,
     "input": "for child in root:\n...   print child.tag, child.attrib",
     "language": "python",
     "metadata": {},
     "outputs": [
      {
       "output_type": "stream",
       "stream": "stdout",
       "text": " boardEnviroment {}\nboardInfo {'name': 'Altera CycloneV Soc Development Kit'}\nboardPinOut {}\n"
      }
     ],
     "prompt_number": 26
    },
    {
     "cell_type": "code",
     "collapsed": false,
     "input": "for boardPinOut in root.iter('boardPinOut'):\n...   print boardPinOut.attrib",
     "language": "python",
     "metadata": {},
     "outputs": [
      {
       "output_type": "stream",
       "stream": "stdout",
       "text": "{}\n"
      }
     ],
     "prompt_number": 31
    },
    {
     "cell_type": "code",
     "collapsed": false,
     "input": "for pinLocation in root.findall('boardInfo'):\n    #name = pinLocation.find('location').text\n    #location = pinLocation.get('location').text\n    #name = pinLocation.get('name')\n    boardInfo = pinLocation.get('name')\n    revision = pinLocation.get('surname')\n    print boardInfo, revision\n    ",
     "language": "python",
     "metadata": {},
     "outputs": [
      {
       "output_type": "stream",
       "stream": "stdout",
       "text": "Altera CycloneV Soc Development Kit tralala\n"
      }
     ],
     "prompt_number": 71
    },
    {
     "cell_type": "code",
     "collapsed": false,
     "input": "import xml.etree.ElementTree as ET\ntree = ET.parse('AlteraCVSoCDevKit.xml')\nroot = tree.getroot()\n\nfor pinLocation in root.findall('pin'):\n    name       = pinLocation.get('name')\n    location   = pinLocation.get('location')\n    ioStandard = pinLocation.get('io_standard')\n    #location = pinLocation.get('location').text\n    #name = pinLocation.get('name')\n    print name, location, ioStandard\n    ",
     "language": "python",
     "metadata": {},
     "outputs": [
      {
       "output_type": "stream",
       "stream": "stdout",
       "text": "fpga_clk_50 PIN_AC18 1.5 V\nfpga_button_pio[1] PIN_AB13 1.5 V\nfpga_button_pio[0] PIN_AA13 1.5 V\nfpga_dipsw_pio[0] PIN_AG10 1.5 V\nfpga_dipsw_pio[1] PIN_AH9 1.5 V\nfpga_dipsw_pio[2] PIN_AF11 1.5 V\nfpga_dipsw_pio[3] PIN_AG11 1.5 V\nfpga_led_pio[0] PIN_AK2 1.5 V\nfpga_led_pio[1] PIN_Y16 1.5 V\nfpga_led_pio[2] PIN_W15 1.5 V\nfpga_led_pio[3] PIN_AB17 1.5 V\n"
      }
     ],
     "prompt_number": 81
    },
    {
     "cell_type": "code",
     "collapsed": false,
     "input": "import xml.etree.ElementTree as ET\ntree = ET.parse('AlteraCVSoCDevKit1.xml')\nroot = tree.getroot()\nfor neighbor in root.iter('neighbor'):\n...   print neighbor.attrib",
     "language": "python",
     "metadata": {},
     "outputs": []
    }
   ],
   "metadata": {}
  }
 ]
}