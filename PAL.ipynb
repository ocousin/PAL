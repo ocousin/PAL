{
 "metadata": {
  "name": "PAL"
 },
 "nbformat": 3,
 "nbformat_minor": 0,
 "worksheets": [
  {
   "cells": [
    {
     "cell_type": "code",
     "collapsed": false,
     "input": [
      "import xml.etree.ElementTree as ET\n",
      "tree = ET.parse('AlteraCVSoCDevKit.xml')\n",
      "root = tree.getroot()\n"
     ],
     "language": "python",
     "metadata": {},
     "outputs": [],
     "prompt_number": 78
    },
    {
     "cell_type": "code",
     "collapsed": false,
     "input": [
      "print root.tag"
     ],
     "language": "python",
     "metadata": {},
     "outputs": [
      {
       "output_type": "stream",
       "stream": "stdout",
       "text": [
        "Platform\n"
       ]
      }
     ],
     "prompt_number": 70
    },
    {
     "cell_type": "code",
     "collapsed": false,
     "input": [
      "for node in root:\n",
      "    print node"
     ],
     "language": "python",
     "metadata": {},
     "outputs": [
      {
       "output_type": "stream",
       "stream": "stdout",
       "text": [
        "<Element 'boardEnviroment' at 0x3a608d0>\n",
        "<Element 'boardInfo' at 0x3a60990>\n",
        "<Element 'boardPinOut' at 0x3a60a90>\n"
       ]
      }
     ],
     "prompt_number": 41
    },
    {
     "cell_type": "code",
     "collapsed": false,
     "input": [
      "for child in root:\n",
      "...   print child.tag, child.attrib"
     ],
     "language": "python",
     "metadata": {},
     "outputs": [
      {
       "output_type": "stream",
       "stream": "stdout",
       "text": [
        " boardEnviroment {}\n",
        "boardInfo {'name': 'Altera CycloneV Soc Development Kit'}\n",
        "boardPinOut {}\n"
       ]
      }
     ],
     "prompt_number": 26
    },
    {
     "cell_type": "code",
     "collapsed": false,
     "input": [
      "for boardPinOut in root.iter('boardPinOut'):\n",
      "...   print boardPinOut.attrib"
     ],
     "language": "python",
     "metadata": {},
     "outputs": [
      {
       "output_type": "stream",
       "stream": "stdout",
       "text": [
        "{}\n"
       ]
      }
     ],
     "prompt_number": 31
    },
    {
     "cell_type": "code",
     "collapsed": false,
     "input": [
      "for pinLocation in root.findall('boardInfo'):\n",
      "    #name = pinLocation.find('location').text\n",
      "    #location = pinLocation.get('location').text\n",
      "    #name = pinLocation.get('name')\n",
      "    boardInfo = pinLocation.get('name')\n",
      "    revision = pinLocation.get('surname')\n",
      "    print boardInfo, revision\n",
      "    "
     ],
     "language": "python",
     "metadata": {},
     "outputs": [
      {
       "output_type": "stream",
       "stream": "stdout",
       "text": [
        "Altera CycloneV Soc Development Kit tralala\n"
       ]
      }
     ],
     "prompt_number": 71
    },
    {
     "cell_type": "code",
     "collapsed": false,
     "input": [
      "import xml.etree.ElementTree as ET\n",
      "tree = ET.parse('AlteraCVSoCDevKit.xml')\n",
      "root = tree.getroot()\n",
      "\n",
      "for pinLocation in root.findall('pin'):\n",
      "    name       = pinLocation.get('name')\n",
      "    location   = pinLocation.get('location')\n",
      "    ioStandard = pinLocation.get('io_standard')\n",
      "    #location = pinLocation.get('location').text\n",
      "    #name = pinLocation.get('name')\n",
      "    print name, location, ioStandard\n",
      "    "
     ],
     "language": "python",
     "metadata": {},
     "outputs": [
      {
       "output_type": "stream",
       "stream": "stdout",
       "text": [
        "fpga_clk_50 PIN_AC18 1.5 V\n",
        "fpga_button_pio[1] PIN_AB13 1.5 V\n",
        "fpga_button_pio[0] PIN_AA13 1.5 V\n",
        "fpga_dipsw_pio[0] PIN_AG10 1.5 V\n",
        "fpga_dipsw_pio[1] PIN_AH9 1.5 V\n",
        "fpga_dipsw_pio[2] PIN_AF11 1.5 V\n",
        "fpga_dipsw_pio[3] PIN_AG11 1.5 V\n",
        "fpga_led_pio[0] PIN_AK2 1.5 V\n",
        "fpga_led_pio[1] PIN_Y16 1.5 V\n",
        "fpga_led_pio[2] PIN_W15 1.5 V\n",
        "fpga_led_pio[3] PIN_AB17 1.5 V\n"
       ]
      }
     ],
     "prompt_number": 81
    },
    {
     "cell_type": "code",
     "collapsed": false,
     "input": [
      "import xml.etree.ElementTree as ET\n",
      "tree = ET.parse('AlteraCVSoCDevKit.xml')\n",
      "root = tree.getroot()\n",
      "\n",
      "for node in root:\n",
      "    print node.tag, node.attrib\n",
      "print \"\\n\"\n",
      "for node in root.iter():\n",
      "    print node.tag, node.attrib\n",
      "\n",
      "print \"test\"\n",
      "softwareInfo = tree.find('softwareInfo')\n",
      "print softwareInfo.tag\n",
      "\n",
      "\n",
      "#name = node.getname('boardInfo')\n",
      "#print name\n",
      "#for pinout in root.iter(\"pin\"):\n",
      "#    print pinout.attrib"
     ],
     "language": "python",
     "metadata": {},
     "outputs": [
      {
       "ename": "AttributeError",
       "evalue": "'NoneType' object has no attribute 'tag'",
       "output_type": "pyerr",
       "traceback": [
        "\u001b[1;31m---------------------------------------------------------------------------\u001b[0m\n\u001b[1;31mAttributeError\u001b[0m                            Traceback (most recent call last)",
        "\u001b[1;32m<ipython-input-41-6b40c88a3812>\u001b[0m in \u001b[0;36m<module>\u001b[1;34m()\u001b[0m\n\u001b[0;32m     11\u001b[0m \u001b[1;32mprint\u001b[0m \u001b[1;34m\"test\"\u001b[0m\u001b[1;33m\u001b[0m\u001b[0m\n\u001b[0;32m     12\u001b[0m \u001b[0msoftwareRev\u001b[0m \u001b[1;33m=\u001b[0m \u001b[0mtree\u001b[0m\u001b[1;33m.\u001b[0m\u001b[0mfind\u001b[0m\u001b[1;33m(\u001b[0m\u001b[1;34m'softwareRev'\u001b[0m\u001b[1;33m)\u001b[0m\u001b[1;33m\u001b[0m\u001b[0m\n\u001b[1;32m---> 13\u001b[1;33m \u001b[1;32mprint\u001b[0m \u001b[0msoftwareRev\u001b[0m\u001b[1;33m.\u001b[0m\u001b[0mtag\u001b[0m\u001b[1;33m\u001b[0m\u001b[0m\n\u001b[0m\u001b[0;32m     14\u001b[0m \u001b[1;33m\u001b[0m\u001b[0m\n\u001b[0;32m     15\u001b[0m \u001b[1;33m\u001b[0m\u001b[0m\n",
        "\u001b[1;31mAttributeError\u001b[0m: 'NoneType' object has no attribute 'tag'"
       ]
      },
      {
       "output_type": "stream",
       "stream": "stdout",
       "text": [
        "softwareInfo {}\n",
        "boardInfo {'surname': 'tralala', 'name': 'Altera CycloneV Soc Development Kit'}\n",
        "pinOutInformation {}\n",
        "\n",
        "\n",
        "Platform {}\n",
        "softwareInfo {}\n",
        "softwareName {'name': 'QuartusII'}\n",
        "softwareRev {'rev': '14.0'}\n",
        "boardInfo {'surname': 'tralala', 'name': 'Altera CycloneV Soc Development Kit'}\n",
        "revision {}\n",
        "family {}\n",
        "device {}\n",
        "pinOutInformation {}\n",
        "pin {'location': 'PIN_AC18', 'name': 'fpga_clk_50', 'io_standard': '1.5 V'}\n",
        "pin {'location': 'PIN_AB13', 'name': 'fpga_button_pio[1]', 'io_standard': '1.5 V'}\n",
        "pin {'location': 'PIN_AA13', 'name': 'fpga_button_pio[0]', 'io_standard': '1.5 V'}\n",
        "pin {'location': 'PIN_AG10', 'name': 'fpga_dipsw_pio[0]', 'io_standard': '1.5 V'}\n",
        "pin {'location': 'PIN_AH9', 'name': 'fpga_dipsw_pio[1]', 'io_standard': '1.5 V'}\n",
        "pin {'location': 'PIN_AF11', 'name': 'fpga_dipsw_pio[2]', 'io_standard': '1.5 V'}\n",
        "pin {'location': 'PIN_AG11', 'name': 'fpga_dipsw_pio[3]', 'io_standard': '1.5 V'}\n",
        "pin {'location': 'PIN_AK2', 'name': 'fpga_led_pio[0]', 'io_standard': '1.5 V'}\n",
        "pin {'location': 'PIN_Y16', 'name': 'fpga_led_pio[1]', 'io_standard': '1.5 V'}\n",
        "pin {'location': 'PIN_W15', 'name': 'fpga_led_pio[2]', 'io_standard': '1.5 V'}\n",
        "pin {'location': 'PIN_AB17', 'name': 'fpga_led_pio[3]', 'io_standard': '1.5 V'}\n",
        "test\n"
       ]
      }
     ],
     "prompt_number": 41
    },
    {
     "cell_type": "code",
     "collapsed": false,
     "input": [
      "from xml.etree import ElementTree\n",
      "\n",
      "with open('AlteraCVSoCDevKit.xml', 'rt') as f:\n",
      "    tree = ElementTree.parse(f)\n",
      "\n",
      "node = tree.find('softwareInfo')\n",
      "print node.tag\n",
      "#print '  in attribute:', node.attrib['attribute']\n",
      "#print '  in text     :', node.text"
     ],
     "language": "python",
     "metadata": {},
     "outputs": [
      {
       "output_type": "stream",
       "stream": "stdout",
       "text": [
        "{}\n"
       ]
      }
     ],
     "prompt_number": 40
    }
   ],
   "metadata": {}
  }
 ]
}